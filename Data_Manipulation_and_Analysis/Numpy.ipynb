{
  "nbformat": 4,
  "nbformat_minor": 0,
  "metadata": {
    "colab": {
      "provenance": [],
      "authorship_tag": "ABX9TyPgeiUcwI9WfkTgjiMibacv",
      "include_colab_link": true
    },
    "kernelspec": {
      "name": "python3",
      "display_name": "Python 3"
    },
    "language_info": {
      "name": "python"
    }
  },
  "cells": [
    {
      "cell_type": "markdown",
      "metadata": {
        "id": "view-in-github",
        "colab_type": "text"
      },
      "source": [
        "<a href=\"https://colab.research.google.com/github/Hatsuhinode/Feature-Engineering/blob/main/Numpy.ipynb\" target=\"_parent\"><img src=\"https://colab.research.google.com/assets/colab-badge.svg\" alt=\"Open In Colab\"/></a>"
      ]
    },
    {
      "cell_type": "markdown",
      "source": [
        "# Arrays in Numpy"
      ],
      "metadata": {
        "id": "kwgAaMwhkwIv"
      }
    },
    {
      "cell_type": "markdown",
      "source": [
        "Array in Numpy is a table of elements (usually numbers), all of the same type, indexed by a tuple of positive integers"
      ],
      "metadata": {
        "id": "kXGIJjyCk3uj"
      }
    },
    {
      "cell_type": "markdown",
      "source": [
        " An array class in Numpy is called as **ndarray**."
      ],
      "metadata": {
        "id": "Q-TnNEbtlAgE"
      }
    },
    {
      "cell_type": "markdown",
      "source": [
        "---"
      ],
      "metadata": {
        "id": "Xv1BYLA7lQx8"
      }
    },
    {
      "cell_type": "code",
      "source": [
        "import numpy as np"
      ],
      "metadata": {
        "id": "1SJeYcwGlSp_"
      },
      "execution_count": null,
      "outputs": []
    },
    {
      "cell_type": "markdown",
      "source": [
        "---"
      ],
      "metadata": {
        "id": "aOQJG5YHlRZA"
      }
    },
    {
      "cell_type": "markdown",
      "source": [
        "## Creating Numpy Array"
      ],
      "metadata": {
        "id": "EOY1T8KLlKnb"
      }
    },
    {
      "cell_type": "markdown",
      "source": [
        "##### In Numpy, number of dimensions of the array is called **rank of the array**."
      ],
      "metadata": {
        "id": "Gl8PlXlulpSg"
      }
    },
    {
      "cell_type": "markdown",
      "source": [
        "---"
      ],
      "metadata": {
        "id": "utaXTfgrnjii"
      }
    },
    {
      "cell_type": "markdown",
      "source": [
        "### np.array"
      ],
      "metadata": {
        "id": "9hVs8ep5WVin"
      }
    },
    {
      "cell_type": "markdown",
      "source": [
        "#### Rank 1 Array"
      ],
      "metadata": {
        "id": "zxl1rJxfl6Nm"
      }
    },
    {
      "cell_type": "code",
      "source": [
        "rank1Array = np.array([10,20,30])\n",
        "rank1Array"
      ],
      "metadata": {
        "colab": {
          "base_uri": "https://localhost:8080/"
        },
        "id": "jgEY3A52lAMb",
        "outputId": "0d3438b7-114d-4614-e24d-7fad66b6ef4c"
      },
      "execution_count": null,
      "outputs": [
        {
          "output_type": "execute_result",
          "data": {
            "text/plain": [
              "array([10, 20, 30])"
            ]
          },
          "metadata": {},
          "execution_count": 85
        }
      ]
    },
    {
      "cell_type": "code",
      "source": [
        "type(rank1Array)"
      ],
      "metadata": {
        "colab": {
          "base_uri": "https://localhost:8080/"
        },
        "id": "NQH2Q4DamW8V",
        "outputId": "be18d291-2b87-4600-9550-ccebba56bbf7"
      },
      "execution_count": null,
      "outputs": [
        {
          "output_type": "execute_result",
          "data": {
            "text/plain": [
              "numpy.ndarray"
            ]
          },
          "metadata": {},
          "execution_count": 86
        }
      ]
    },
    {
      "cell_type": "code",
      "source": [
        "print('The dimension of array is : ',rank1Array.ndim)"
      ],
      "metadata": {
        "colab": {
          "base_uri": "https://localhost:8080/"
        },
        "id": "7RmntykVopZF",
        "outputId": "0f4e7e08-c969-49f2-84d9-f20a36d03c3c"
      },
      "execution_count": null,
      "outputs": [
        {
          "output_type": "stream",
          "name": "stdout",
          "text": [
            "The dimension of array is :  1\n"
          ]
        }
      ]
    },
    {
      "cell_type": "markdown",
      "source": [
        "---"
      ],
      "metadata": {
        "id": "2W-ypBm4nk7s"
      }
    },
    {
      "cell_type": "markdown",
      "source": [
        "#### Rank 2 Array"
      ],
      "metadata": {
        "id": "F1fKJkD2l_z6"
      }
    },
    {
      "cell_type": "code",
      "execution_count": null,
      "metadata": {
        "colab": {
          "base_uri": "https://localhost:8080/"
        },
        "id": "qOJ9jnaLiZLK",
        "outputId": "430db8c0-2080-4799-bc8e-826d4b98ed14"
      },
      "outputs": [
        {
          "output_type": "execute_result",
          "data": {
            "text/plain": [
              "array([[ 10,  20,  30],\n",
              "       [ 50,  60,  70],\n",
              "       [ 80,  90, 100]])"
            ]
          },
          "metadata": {},
          "execution_count": 89
        }
      ],
      "source": [
        "rank2Array = np.array([[10,20,30],\n",
        "                       [50,60,70],\n",
        "                       [80,90,100]])\n",
        "rank2Array"
      ]
    },
    {
      "cell_type": "code",
      "source": [
        "type(rank2Array)"
      ],
      "metadata": {
        "colab": {
          "base_uri": "https://localhost:8080/"
        },
        "id": "yJxExFObne_R",
        "outputId": "d4cd66cc-1024-49ad-9065-70a2b9b35932"
      },
      "execution_count": null,
      "outputs": [
        {
          "output_type": "execute_result",
          "data": {
            "text/plain": [
              "numpy.ndarray"
            ]
          },
          "metadata": {},
          "execution_count": 91
        }
      ]
    },
    {
      "cell_type": "code",
      "source": [
        "print('The dimension of array is : ',rank2Array.ndim)"
      ],
      "metadata": {
        "colab": {
          "base_uri": "https://localhost:8080/"
        },
        "id": "TL-EXZJ3o6FQ",
        "outputId": "01fdd3c2-b0d0-440a-ed06-dbe4ea5097c7"
      },
      "execution_count": null,
      "outputs": [
        {
          "output_type": "stream",
          "name": "stdout",
          "text": [
            "The dimension of array is :  2\n"
          ]
        }
      ]
    },
    {
      "cell_type": "markdown",
      "source": [
        "---"
      ],
      "metadata": {
        "id": "jaZVKXINnnWI"
      }
    },
    {
      "cell_type": "markdown",
      "source": [
        "#### Rank 3 Array"
      ],
      "metadata": {
        "id": "TT0nz3HcmD-D"
      }
    },
    {
      "cell_type": "code",
      "source": [
        "rank3Array = np.array([[[10.,20],[30,40]],\n",
        "                      [[40,50],[60,70]],\n",
        "                       [[80,90],[100,110]]])\n",
        "rank3Array"
      ],
      "metadata": {
        "colab": {
          "base_uri": "https://localhost:8080/"
        },
        "id": "oKM5zRMImFMx",
        "outputId": "33b0d6d7-72ba-419b-c7a1-eafcb1240339"
      },
      "execution_count": null,
      "outputs": [
        {
          "output_type": "execute_result",
          "data": {
            "text/plain": [
              "array([[[ 10.,  20.],\n",
              "        [ 30.,  40.]],\n",
              "\n",
              "       [[ 40.,  50.],\n",
              "        [ 60.,  70.]],\n",
              "\n",
              "       [[ 80.,  90.],\n",
              "        [100., 110.]]])"
            ]
          },
          "metadata": {},
          "execution_count": 93
        }
      ]
    },
    {
      "cell_type": "markdown",
      "source": [
        "**Axis 0**: This is the first dimension and often represents different samples or instances in the data.\n",
        "\n",
        "**Axis 1**: The second dimension, often denoting features or attributes for each sample.\n",
        "\n",
        "**Axis 2**: The third dimension, when dealing with a 3D array, represents additional structure or depth in the data."
      ],
      "metadata": {
        "id": "Xh7T3frDGX1g"
      }
    },
    {
      "cell_type": "code",
      "source": [
        "type(rank3Array)"
      ],
      "metadata": {
        "colab": {
          "base_uri": "https://localhost:8080/"
        },
        "id": "yc9MfAHKpGGN",
        "outputId": "e513579c-6595-44a8-e871-0d333e7d092c"
      },
      "execution_count": null,
      "outputs": [
        {
          "output_type": "execute_result",
          "data": {
            "text/plain": [
              "numpy.ndarray"
            ]
          },
          "metadata": {},
          "execution_count": 94
        }
      ]
    },
    {
      "cell_type": "code",
      "source": [
        "print('The dimension of array is : ',rank3Array.ndim)"
      ],
      "metadata": {
        "colab": {
          "base_uri": "https://localhost:8080/"
        },
        "id": "7eaS9gvWo7Mk",
        "outputId": "021190e1-7b1c-423f-cdc5-7d9a457b8a00"
      },
      "execution_count": null,
      "outputs": [
        {
          "output_type": "stream",
          "name": "stdout",
          "text": [
            "The dimension of array is :  3\n"
          ]
        }
      ]
    },
    {
      "cell_type": "markdown",
      "source": [
        "---"
      ],
      "metadata": {
        "id": "hUd6VxIooWUi"
      }
    },
    {
      "cell_type": "markdown",
      "source": [
        "#### Boolean array"
      ],
      "metadata": {
        "id": "vHy7z5fsi889"
      }
    },
    {
      "cell_type": "code",
      "source": [
        "boolArray1 = np.array([True, False, False, True])\n",
        "boolArray1"
      ],
      "metadata": {
        "colab": {
          "base_uri": "https://localhost:8080/"
        },
        "id": "RKPl0Fr0i4tW",
        "outputId": "7826a035-5384-420e-9622-e55879604641"
      },
      "execution_count": null,
      "outputs": [
        {
          "output_type": "execute_result",
          "data": {
            "text/plain": [
              "array([ True, False, False,  True])"
            ]
          },
          "metadata": {},
          "execution_count": 96
        }
      ]
    },
    {
      "cell_type": "code",
      "source": [
        "boolArray1.dtype"
      ],
      "metadata": {
        "colab": {
          "base_uri": "https://localhost:8080/"
        },
        "id": "SZzqCLRyjPZ3",
        "outputId": "1444fd99-2f76-4072-f296-dbf6f1843031"
      },
      "execution_count": null,
      "outputs": [
        {
          "output_type": "execute_result",
          "data": {
            "text/plain": [
              "dtype('bool')"
            ]
          },
          "metadata": {},
          "execution_count": 97
        }
      ]
    },
    {
      "cell_type": "markdown",
      "source": [
        "---"
      ],
      "metadata": {
        "id": "-coRuusri398"
      }
    },
    {
      "cell_type": "markdown",
      "source": [
        "### np.random.choice"
      ],
      "metadata": {
        "id": "WrKfkxO-jY5q"
      }
    },
    {
      "cell_type": "code",
      "source": [
        "boolArray2 = np.random.choice([True, False], size=4)\n",
        "boolArray2"
      ],
      "metadata": {
        "colab": {
          "base_uri": "https://localhost:8080/"
        },
        "id": "LyN29sJBjYP_",
        "outputId": "11d959e9-bd43-408b-c227-a5f0a60a04f3"
      },
      "execution_count": null,
      "outputs": [
        {
          "output_type": "execute_result",
          "data": {
            "text/plain": [
              "array([ True,  True,  True,  True])"
            ]
          },
          "metadata": {},
          "execution_count": 98
        }
      ]
    },
    {
      "cell_type": "markdown",
      "source": [
        "With the help of **choice()** method, we can get the random samples of one dimensional array and return the random samples of numpy array."
      ],
      "metadata": {
        "id": "TH5CiiVcEllS"
      }
    },
    {
      "cell_type": "markdown",
      "source": [
        "---"
      ],
      "metadata": {
        "id": "Z1Jx_d3kj6Xf"
      }
    },
    {
      "cell_type": "markdown",
      "source": [
        "### Boolean array based on condition"
      ],
      "metadata": {
        "id": "_x1KANI0j2Oz"
      }
    },
    {
      "cell_type": "code",
      "source": [
        "Narray = np.array([1, 2, 3, 4, 5])\n",
        "result = Narray > 2"
      ],
      "metadata": {
        "id": "wbUcJn9_j7LU"
      },
      "execution_count": null,
      "outputs": []
    },
    {
      "cell_type": "code",
      "source": [
        "print(result)\n",
        "print(type(result))\n",
        "print(result.dtype)"
      ],
      "metadata": {
        "colab": {
          "base_uri": "https://localhost:8080/"
        },
        "id": "P6GsJPTQj7H7",
        "outputId": "32e5fa8a-f78d-400d-9944-ca2145060c1e"
      },
      "execution_count": null,
      "outputs": [
        {
          "output_type": "stream",
          "name": "stdout",
          "text": [
            "[False False  True  True  True]\n",
            "<class 'numpy.ndarray'>\n",
            "bool\n"
          ]
        }
      ]
    },
    {
      "cell_type": "markdown",
      "source": [
        "---"
      ],
      "metadata": {
        "id": "AEskfAjtjWu_"
      }
    },
    {
      "cell_type": "markdown",
      "source": [
        "### np.random.randint"
      ],
      "metadata": {
        "id": "YvGkuCWCWbNE"
      }
    },
    {
      "cell_type": "markdown",
      "source": [
        "#### Generating random integer array"
      ],
      "metadata": {
        "id": "3XXK90i2XKM7"
      }
    },
    {
      "cell_type": "code",
      "source": [
        " # Creating 1D array of 9 random integers between  0 (inclusive) and 50 (exclusive)\n",
        "intArray = np.random.randint(0,50,9)\n",
        "\n",
        "print(intArray)\n",
        "print(type(intArray))"
      ],
      "metadata": {
        "colab": {
          "base_uri": "https://localhost:8080/"
        },
        "id": "rOOrrBEwWfux",
        "outputId": "03d43626-6737-42a7-a524-14819b62cad9"
      },
      "execution_count": null,
      "outputs": [
        {
          "output_type": "stream",
          "name": "stdout",
          "text": [
            "[45  8 38 39 34 31 36  4 28]\n",
            "<class 'numpy.ndarray'>\n"
          ]
        }
      ]
    },
    {
      "cell_type": "code",
      "source": [
        " # Creating array of given shape between 0 and 50\n",
        "shapeArray = np.random.randint(1, 9, (3, 2, 6))\n",
        "shapeArray"
      ],
      "metadata": {
        "colab": {
          "base_uri": "https://localhost:8080/"
        },
        "id": "xhKlEpYwZhyQ",
        "outputId": "30efca8a-d07e-42ee-e20d-d9e9cf105847"
      },
      "execution_count": null,
      "outputs": [
        {
          "output_type": "execute_result",
          "data": {
            "text/plain": [
              "array([[[6, 2, 2, 5, 3, 6],\n",
              "        [7, 5, 3, 2, 8, 2]],\n",
              "\n",
              "       [[7, 5, 3, 7, 8, 4],\n",
              "        [6, 4, 4, 2, 7, 5]],\n",
              "\n",
              "       [[1, 2, 3, 2, 8, 5],\n",
              "        [1, 6, 6, 4, 6, 5]]])"
            ]
          },
          "metadata": {},
          "execution_count": 102
        }
      ]
    },
    {
      "cell_type": "markdown",
      "source": [
        "---"
      ],
      "metadata": {
        "id": "IW3-EGTMZfAK"
      }
    },
    {
      "cell_type": "markdown",
      "source": [
        "### np.random.random"
      ],
      "metadata": {
        "id": "B6_FhoE4ilSM"
      }
    },
    {
      "cell_type": "markdown",
      "source": [
        "#### Generating random float array"
      ],
      "metadata": {
        "id": "xoBJvOEYXOIe"
      }
    },
    {
      "cell_type": "code",
      "source": [
        "floatArray = np.random.random(5)\n",
        "# Generating an array of 5 random floats between 0 and 1.\n",
        "print(floatArray)\n",
        "print(type(floatArray))"
      ],
      "metadata": {
        "colab": {
          "base_uri": "https://localhost:8080/"
        },
        "id": "p3cVtLcRXWh8",
        "outputId": "b27d59e9-c8ff-4a7e-892d-21710965897d"
      },
      "execution_count": null,
      "outputs": [
        {
          "output_type": "stream",
          "name": "stdout",
          "text": [
            "[0.62283401 0.73995152 0.41866343 0.36761763 0.16902881]\n",
            "<class 'numpy.ndarray'>\n"
          ]
        }
      ]
    },
    {
      "cell_type": "markdown",
      "source": [
        "---"
      ],
      "metadata": {
        "id": "eBOt9x9UZeFS"
      }
    },
    {
      "cell_type": "markdown",
      "source": [
        "### np.random.normal"
      ],
      "metadata": {
        "id": "xhy4OW4SipSk"
      }
    },
    {
      "cell_type": "markdown",
      "source": [
        "#### Generating array of numbers from normal distribution"
      ],
      "metadata": {
        "id": "Z7FxcXfoYoJ-"
      }
    },
    {
      "cell_type": "code",
      "source": [
        "NormalArray = np.random.normal(0, 10, 5)\n",
        "# Generating an array of 5 random numbers from normal distribution.\n",
        "\n",
        "NormalArray"
      ],
      "metadata": {
        "colab": {
          "base_uri": "https://localhost:8080/"
        },
        "id": "wnLPCZmdYnw_",
        "outputId": "9b4945c8-eb2a-4712-f6c4-70c9b67f1b58"
      },
      "execution_count": null,
      "outputs": [
        {
          "output_type": "execute_result",
          "data": {
            "text/plain": [
              "array([ 5.16084037,  4.5539286 ,  5.93686203,  3.70506334, 13.45378072])"
            ]
          },
          "metadata": {},
          "execution_count": 104
        }
      ]
    },
    {
      "cell_type": "markdown",
      "source": [
        "In the above code **np.random.normal**(**0**, **10**, 5):\n",
        "\n",
        "- 0 is the mean (center) of the distribution. In this case, the mean is 0.\n",
        "- 10 is the standard deviation, which determines the spread of the distribution"
      ],
      "metadata": {
        "id": "TQzMZXOYFxgK"
      }
    },
    {
      "cell_type": "markdown",
      "source": [
        "---"
      ],
      "metadata": {
        "id": "L4_orBs0ZdDU"
      }
    },
    {
      "cell_type": "markdown",
      "source": [
        "## Shape of Numpy Array"
      ],
      "metadata": {
        "id": "lu8NVIemkbXF"
      }
    },
    {
      "cell_type": "code",
      "source": [
        "NumpArray1 = np.array([[10,20,30],\n",
        "                    [50,60,70],\n",
        "                    [80,90,100],\n",
        "                    [11,22,33]])\n",
        "print('The shape of array is : ',NumpArray1.shape)"
      ],
      "metadata": {
        "colab": {
          "base_uri": "https://localhost:8080/"
        },
        "id": "JkTUNIiakbNt",
        "outputId": "68f673b0-127e-45b1-bb72-9429c5325e29"
      },
      "execution_count": null,
      "outputs": [
        {
          "output_type": "stream",
          "name": "stdout",
          "text": [
            "The shape of array is :  (4, 3)\n"
          ]
        }
      ]
    },
    {
      "cell_type": "markdown",
      "source": [
        "---"
      ],
      "metadata": {
        "id": "eYxE56sol1Aj"
      }
    },
    {
      "cell_type": "markdown",
      "source": [
        "## Size of Numpy Array"
      ],
      "metadata": {
        "id": "s2RL5gaWl2Rj"
      }
    },
    {
      "cell_type": "code",
      "source": [
        "NumpArray2 = np.array([[10,20,30],\n",
        "                    [50,60,70],\n",
        "                    [80,90,100],\n",
        "                    [11,22,33]])\n",
        "print('The size of array is : ',NumpArray1.size)"
      ],
      "metadata": {
        "colab": {
          "base_uri": "https://localhost:8080/"
        },
        "id": "RAzXIF2gkbJj",
        "outputId": "14a56a0a-0fde-4d43-f5ea-4f39417cc9b5"
      },
      "execution_count": null,
      "outputs": [
        {
          "output_type": "stream",
          "name": "stdout",
          "text": [
            "The size of array is :  12\n"
          ]
        }
      ]
    },
    {
      "cell_type": "markdown",
      "source": [
        "---"
      ],
      "metadata": {
        "id": "k-btEPwtl_n8"
      }
    },
    {
      "cell_type": "markdown",
      "source": [
        "### Conversion of Numpy Array"
      ],
      "metadata": {
        "id": "rYkekrtumE2S"
      }
    },
    {
      "cell_type": "code",
      "source": [
        "NumpArray3 = np.arange(1, 12, 2)\n",
        "print(NumpArray3)\n",
        "print(type(NumpArray3))\n",
        "print(NumpArray3.shape)"
      ],
      "metadata": {
        "colab": {
          "base_uri": "https://localhost:8080/"
        },
        "id": "qsbZVFSnkbGs",
        "outputId": "42086b15-5f2d-4763-ee5d-bd840f586b32"
      },
      "execution_count": null,
      "outputs": [
        {
          "output_type": "stream",
          "name": "stdout",
          "text": [
            "[ 1  3  5  7  9 11]\n",
            "<class 'numpy.ndarray'>\n",
            "(6,)\n"
          ]
        }
      ]
    },
    {
      "cell_type": "markdown",
      "source": [
        "##### **np.arange(start,end,step size)** generates numpy array such that the array include 'start' but 'stop' is exclusive. Step size is the difference between consecutive numbers in the array"
      ],
      "metadata": {
        "id": "l-gvrjkCoQNf"
      }
    },
    {
      "cell_type": "code",
      "source": [
        "reshapedArr3_1 = NumpArray3.reshape(2, 3)\n",
        "print(reshapedArr3_1)\n",
        "print(reshapedArr3_1.shape)"
      ],
      "metadata": {
        "colab": {
          "base_uri": "https://localhost:8080/"
        },
        "id": "R3VjLA3WkbBf",
        "outputId": "ad3c8e59-3659-4251-bfa1-4e561ba4d72c"
      },
      "execution_count": null,
      "outputs": [
        {
          "output_type": "stream",
          "name": "stdout",
          "text": [
            "[[ 1  3  5]\n",
            " [ 7  9 11]]\n",
            "(2, 3)\n"
          ]
        }
      ]
    },
    {
      "cell_type": "code",
      "source": [
        "reshapedArr3_2 = NumpArray3.reshape(3, 2)\n",
        "print(reshapedArr3_2)\n",
        "print(reshapedArr3_2.shape)"
      ],
      "metadata": {
        "colab": {
          "base_uri": "https://localhost:8080/"
        },
        "id": "-EuUB_wWka-X",
        "outputId": "e7bffe0d-a368-4e1c-e7ea-208975ec2e9c"
      },
      "execution_count": null,
      "outputs": [
        {
          "output_type": "stream",
          "name": "stdout",
          "text": [
            "[[ 1  3]\n",
            " [ 5  7]\n",
            " [ 9 11]]\n",
            "(3, 2)\n"
          ]
        }
      ]
    },
    {
      "cell_type": "markdown",
      "source": [
        "---"
      ],
      "metadata": {
        "id": "jPa5oRg9kZ_e"
      }
    },
    {
      "cell_type": "markdown",
      "source": [
        "## Indexing in Numpy"
      ],
      "metadata": {
        "id": "q-KBl474pcny"
      }
    },
    {
      "cell_type": "code",
      "source": [
        "# Rank 2 numpy array\n",
        "nArray1 = np.array([[10,20,30],\n",
        "                    [50,60,70],\n",
        "                    [80,90,100]])"
      ],
      "metadata": {
        "id": "5pZCgWBLqihv"
      },
      "execution_count": null,
      "outputs": []
    },
    {
      "cell_type": "code",
      "source": [
        "# Accessing 70\n",
        "nArray1[(1,2)]\n",
        "# (rowNumber, columnNumber)\n",
        "# Index starts from 0."
      ],
      "metadata": {
        "colab": {
          "base_uri": "https://localhost:8080/"
        },
        "id": "csIqac7JqxNR",
        "outputId": "7ef6cb6b-de30-4149-b822-aae1bcf3414c"
      },
      "execution_count": null,
      "outputs": [
        {
          "output_type": "execute_result",
          "data": {
            "text/plain": [
              "70"
            ]
          },
          "metadata": {},
          "execution_count": 111
        }
      ]
    },
    {
      "cell_type": "code",
      "source": [
        "# Rank 3 numpy array\n",
        "nArray2 = np.array([[[10,20],[30,40]],\n",
        "                      [[40,50],[60,70]],\n",
        "                       [[80,90],[100,110]]])"
      ],
      "metadata": {
        "id": "SKcKvUjRrY_f"
      },
      "execution_count": null,
      "outputs": []
    },
    {
      "cell_type": "code",
      "source": [
        "# Accessing 100\n",
        "nArray2[(2,1,0)]"
      ],
      "metadata": {
        "colab": {
          "base_uri": "https://localhost:8080/"
        },
        "id": "1CxVG9SdrjA2",
        "outputId": "8de500a4-9d59-40e6-f4b4-6009b5c1ad0e"
      },
      "execution_count": null,
      "outputs": [
        {
          "output_type": "execute_result",
          "data": {
            "text/plain": [
              "100"
            ]
          },
          "metadata": {},
          "execution_count": 113
        }
      ]
    },
    {
      "cell_type": "markdown",
      "source": [
        "---"
      ],
      "metadata": {
        "id": "0qnzhg5nsvyD"
      }
    },
    {
      "cell_type": "markdown",
      "source": [
        "## Slicing in Numpy"
      ],
      "metadata": {
        "id": "blmNC9V_sxZK"
      }
    },
    {
      "cell_type": "code",
      "source": [
        "# Rank 2 numpy array\n",
        "nArray3 = np.array([[10,20,30],\n",
        "                    [50,60,70],\n",
        "                    [80,90,100]])"
      ],
      "metadata": {
        "id": "GjYqzpNFs5jC"
      },
      "execution_count": null,
      "outputs": []
    },
    {
      "cell_type": "code",
      "source": [
        "# Accessing [10,30]\n",
        "          # [50,70]\n",
        "\n",
        "\n",
        "nArray3[:2 , ::2]\n",
        "# (rowNumber, columnNumber)\n",
        "# Index starts from 0."
      ],
      "metadata": {
        "colab": {
          "base_uri": "https://localhost:8080/"
        },
        "id": "SVedlQd8s5QS",
        "outputId": "d83faeeb-2a1d-4166-8f82-7d544767fb63"
      },
      "execution_count": null,
      "outputs": [
        {
          "output_type": "execute_result",
          "data": {
            "text/plain": [
              "array([[10, 30],\n",
              "       [50, 70]])"
            ]
          },
          "metadata": {},
          "execution_count": 117
        }
      ]
    },
    {
      "cell_type": "markdown",
      "source": [
        "In the above code **nArray3**[**:2** , **::2**]\n",
        "\n",
        "**:2** in the first position indicates that you're selecting rows up to, but not including, index 2 (from the start of the array).\n",
        "\n",
        "**::2** in the second position indicates that you're selecting columns with a step size of 2. This means you'll select every other element along the columns starting from the beginning."
      ],
      "metadata": {
        "id": "VVAOXoPtIhm-"
      }
    },
    {
      "cell_type": "code",
      "source": [
        "# Rank 2 numpy array\n",
        "nArray4 = np.array([[10,20,30],\n",
        "                    [50,60,70],\n",
        "                    [80,90,100],\n",
        "                    [11,22,33]])"
      ],
      "metadata": {
        "id": "t5EsIkEHwzwq"
      },
      "execution_count": null,
      "outputs": []
    },
    {
      "cell_type": "code",
      "source": [
        "# Accessing [10,30]\n",
        "          # [11,33]\n",
        "\n",
        "nArray4[::3 , ::2]\n",
        "\n",
        "# 3 and 2 represents step size."
      ],
      "metadata": {
        "colab": {
          "base_uri": "https://localhost:8080/"
        },
        "id": "CcgIFOW3w0tW",
        "outputId": "69e4359e-3e20-4a27-cdf1-c7af40b716cf"
      },
      "execution_count": null,
      "outputs": [
        {
          "output_type": "execute_result",
          "data": {
            "text/plain": [
              "array([[10, 30],\n",
              "       [11, 33]])"
            ]
          },
          "metadata": {},
          "execution_count": 119
        }
      ]
    },
    {
      "cell_type": "code",
      "source": [
        "# Rank 3 numpy array\n",
        "nArray5 = np.array([[[10,20],[30,40]],\n",
        "                      [[40,50],[60,70]],\n",
        "                       [[80,90],[100,110]]])"
      ],
      "metadata": {
        "id": "HygTPgZos5OL"
      },
      "execution_count": null,
      "outputs": []
    },
    {
      "cell_type": "code",
      "source": [
        "# Accessing 100\n",
        "nArray5[(2,1,0)]"
      ],
      "metadata": {
        "colab": {
          "base_uri": "https://localhost:8080/"
        },
        "id": "6gHUoqEYs5Lk",
        "outputId": "14c180d1-9a7b-4930-a4e5-8e24c1f07a01"
      },
      "execution_count": null,
      "outputs": [
        {
          "output_type": "execute_result",
          "data": {
            "text/plain": [
              "100"
            ]
          },
          "metadata": {},
          "execution_count": 121
        }
      ]
    },
    {
      "cell_type": "code",
      "source": [
        "# Rank 2 numpy array\n",
        "nArray6 = np.array([[10,20,30,11,44,77],\n",
        "                    [50,60,70,22,55,88],\n",
        "                    [80,90,100,33,66,99],\n",
        "                    [1,2,3,4,5,6]])"
      ],
      "metadata": {
        "id": "S-T3AvVQtrwp"
      },
      "execution_count": null,
      "outputs": []
    },
    {
      "cell_type": "code",
      "source": [
        "# Accessing [10,30,11,77]\n",
        "          # [50,70,22,88]\n",
        "          # [1,3,4,6]\n",
        "\n",
        "nArray6[[0, 1, 3]][:, [0, 2, 3, 5]]"
      ],
      "metadata": {
        "colab": {
          "base_uri": "https://localhost:8080/"
        },
        "id": "lVS_QLVItrtx",
        "outputId": "fa09bd20-f969-4821-8ff4-deadf7a5d8f7"
      },
      "execution_count": null,
      "outputs": [
        {
          "output_type": "execute_result",
          "data": {
            "text/plain": [
              "array([[10, 30, 11, 77],\n",
              "       [50, 70, 22, 88],\n",
              "       [ 1,  3,  4,  6]])"
            ]
          },
          "metadata": {},
          "execution_count": 123
        }
      ]
    },
    {
      "cell_type": "markdown",
      "source": [
        "---"
      ],
      "metadata": {
        "id": "H1NFWzRyzbQY"
      }
    },
    {
      "cell_type": "markdown",
      "source": [
        "## Data types in Numpy"
      ],
      "metadata": {
        "id": "JV45YbWCzrc7"
      }
    },
    {
      "cell_type": "code",
      "source": [
        "nArray7 = np.array([10, 20])\n",
        "print('The datatype of numpy array is : ')\n",
        "print(nArray7.dtype)"
      ],
      "metadata": {
        "colab": {
          "base_uri": "https://localhost:8080/"
        },
        "id": "dj3YVdTX0iZs",
        "outputId": "3e955b3b-8a13-461f-9427-c0f36dc69ebe"
      },
      "execution_count": null,
      "outputs": [
        {
          "output_type": "stream",
          "name": "stdout",
          "text": [
            "The datatype of numpy array is : \n",
            "int64\n"
          ]
        }
      ]
    },
    {
      "cell_type": "code",
      "source": [
        "nArray7 = np.array([1.0, 2.0])\n",
        "print('The datatype of numpy array is : ')\n",
        "print(nArray7.dtype)"
      ],
      "metadata": {
        "colab": {
          "base_uri": "https://localhost:8080/"
        },
        "id": "LrKYIyz40sR9",
        "outputId": "3a5908a1-b97b-4c8f-dfc3-7d14985b5b08"
      },
      "execution_count": null,
      "outputs": [
        {
          "output_type": "stream",
          "name": "stdout",
          "text": [
            "The datatype of numpy array is : \n",
            "float64\n"
          ]
        }
      ]
    },
    {
      "cell_type": "code",
      "source": [
        "nArray8 = np.array([1, 2], dtype = np.float64)\n",
        "print(nArray8.dtype)"
      ],
      "metadata": {
        "colab": {
          "base_uri": "https://localhost:8080/"
        },
        "id": "irs9Wr7koBf6",
        "outputId": "6f61c5fc-3198-468a-b084-d0d5c2434910"
      },
      "execution_count": null,
      "outputs": [
        {
          "output_type": "stream",
          "name": "stdout",
          "text": [
            "float64\n"
          ]
        }
      ]
    },
    {
      "cell_type": "code",
      "source": [
        "nArray8"
      ],
      "metadata": {
        "colab": {
          "base_uri": "https://localhost:8080/"
        },
        "id": "XHRijtu405KL",
        "outputId": "d16f27db-73fa-4e51-f3c1-6f1cc912f9b6"
      },
      "execution_count": null,
      "outputs": [
        {
          "output_type": "execute_result",
          "data": {
            "text/plain": [
              "array([1., 2.])"
            ]
          },
          "metadata": {},
          "execution_count": 127
        }
      ]
    },
    {
      "cell_type": "markdown",
      "source": [
        "**int64** and **float64** are specific data types provided by NumPy to represent integers and floating-point numbers respectively, but with a **specific size** (in this case, **64 bits** or **8 bytes**)."
      ],
      "metadata": {
        "id": "x5iYMwfAKBRR"
      }
    },
    {
      "cell_type": "markdown",
      "source": [
        "In **Python**, **int** and **float** can **vary in size** based on the platform and are typically of fixed precision.\n",
        "**NumPy's** **int64** and **float64** provide specific precision.\n"
      ],
      "metadata": {
        "id": "QfFy0deSKJyU"
      }
    },
    {
      "cell_type": "markdown",
      "source": [
        "---"
      ],
      "metadata": {
        "id": "XkzFbV9I1MVP"
      }
    },
    {
      "cell_type": "markdown",
      "source": [
        "## Searching in Numpy"
      ],
      "metadata": {
        "id": "N9awNSGvMone"
      }
    },
    {
      "cell_type": "markdown",
      "source": [
        "### np.where"
      ],
      "metadata": {
        "id": "D2QBKIkRUPpJ"
      }
    },
    {
      "cell_type": "code",
      "source": [
        "nArray9 = np.array([10,20,30,40,50,60])"
      ],
      "metadata": {
        "id": "n2EcSrDTN4F2"
      },
      "execution_count": null,
      "outputs": []
    },
    {
      "cell_type": "code",
      "source": [
        "index9 = np.where(nArray9 == 40)\n",
        "index9"
      ],
      "metadata": {
        "colab": {
          "base_uri": "https://localhost:8080/"
        },
        "id": "mkKiHzJrN-t2",
        "outputId": "97a2c5d0-3140-4466-f072-bc9c6672bad4"
      },
      "execution_count": null,
      "outputs": [
        {
          "output_type": "execute_result",
          "data": {
            "text/plain": [
              "(array([3]),)"
            ]
          },
          "metadata": {},
          "execution_count": 129
        }
      ]
    },
    {
      "cell_type": "markdown",
      "source": [
        "This is a **tuple with one element**. That single element is a **NumPy array**."
      ],
      "metadata": {
        "id": "8A2j1E3QPSHT"
      }
    },
    {
      "cell_type": "markdown",
      "source": [
        "Inside the tuple, there's a NumPy array with one element, which is 3."
      ],
      "metadata": {
        "id": "ZumGOzUZPoHf"
      }
    },
    {
      "cell_type": "code",
      "source": [
        "index9[0]"
      ],
      "metadata": {
        "colab": {
          "base_uri": "https://localhost:8080/"
        },
        "id": "ChR7wm3ARZsS",
        "outputId": "b21154f0-2211-4306-aedf-7d3a9b0c768f"
      },
      "execution_count": null,
      "outputs": [
        {
          "output_type": "execute_result",
          "data": {
            "text/plain": [
              "array([3])"
            ]
          },
          "metadata": {},
          "execution_count": 132
        }
      ]
    },
    {
      "cell_type": "code",
      "source": [
        "index9[0].dtype"
      ],
      "metadata": {
        "colab": {
          "base_uri": "https://localhost:8080/"
        },
        "id": "pKvk6Z29OQI3",
        "outputId": "d81b3c7d-1d9e-4a73-d870-f7bf64e14c6f"
      },
      "execution_count": null,
      "outputs": [
        {
          "output_type": "execute_result",
          "data": {
            "text/plain": [
              "dtype('int64')"
            ]
          },
          "metadata": {},
          "execution_count": 133
        }
      ]
    },
    {
      "cell_type": "markdown",
      "source": [
        "---"
      ],
      "metadata": {
        "id": "i1eqKLotP8X_"
      }
    },
    {
      "cell_type": "code",
      "source": [
        "nArray10 = np.array([[10,20,30,11,44,77],\n",
        "                    [50,60,70,22,55,88],\n",
        "                    [80,90,100,33,66,99],\n",
        "                    [1,2,3,4,5,6]])"
      ],
      "metadata": {
        "id": "MQYCOmBmM1pq"
      },
      "execution_count": null,
      "outputs": []
    },
    {
      "cell_type": "code",
      "source": [
        "index10 = np.where(nArray10 == 33)\n",
        "index10"
      ],
      "metadata": {
        "colab": {
          "base_uri": "https://localhost:8080/"
        },
        "id": "FNntjXn-07b3",
        "outputId": "8b778235-c596-4f15-deb9-4a04aad08bc8"
      },
      "execution_count": null,
      "outputs": [
        {
          "output_type": "execute_result",
          "data": {
            "text/plain": [
              "(array([2]), array([3]))"
            ]
          },
          "metadata": {},
          "execution_count": 135
        }
      ]
    },
    {
      "cell_type": "markdown",
      "source": [
        "####np.where returns a tuple of arrays (which are **instances of ndarray**). These arrays are NumPy arrays (**ndarray objects**) that contain the indices where the specified condition is met in the input array."
      ],
      "metadata": {
        "id": "nxd1YLKlTEMC"
      }
    },
    {
      "cell_type": "markdown",
      "source": [
        "---"
      ],
      "metadata": {
        "id": "eQM8xReOP9i-"
      }
    },
    {
      "cell_type": "code",
      "source": [
        "nArray11 = np.array([[10,20,33,11,44,77],\n",
        "                    [50,60,70,22,55,88],\n",
        "                    [80,90,100,33,66,99],\n",
        "                    [1,2,3,4,5,6]])"
      ],
      "metadata": {
        "id": "omsf0ie8QKZ9"
      },
      "execution_count": null,
      "outputs": []
    },
    {
      "cell_type": "code",
      "source": [
        "index11 = np.where(nArray11 == 33)\n",
        "index11"
      ],
      "metadata": {
        "colab": {
          "base_uri": "https://localhost:8080/"
        },
        "id": "cDVqrs-jNSYW",
        "outputId": "1bcf770d-49de-42e8-a399-8778f070e84c"
      },
      "execution_count": null,
      "outputs": [
        {
          "output_type": "execute_result",
          "data": {
            "text/plain": [
              "(array([0, 2]), array([2, 3]))"
            ]
          },
          "metadata": {},
          "execution_count": 137
        }
      ]
    },
    {
      "cell_type": "markdown",
      "source": [
        "Variable **index11** is an iterable with the index of our searched value as the first element."
      ],
      "metadata": {
        "id": "NTmlUTYTNwnF"
      }
    },
    {
      "cell_type": "code",
      "source": [
        "for numbers in index11[0] :\n",
        "    print(numbers)"
      ],
      "metadata": {
        "colab": {
          "base_uri": "https://localhost:8080/"
        },
        "id": "sl1yyBtYRfcu",
        "outputId": "8b24b2bd-66d8-451f-e91d-29e8df5d1f10"
      },
      "execution_count": null,
      "outputs": [
        {
          "output_type": "stream",
          "name": "stdout",
          "text": [
            "0\n",
            "2\n"
          ]
        }
      ]
    },
    {
      "cell_type": "code",
      "source": [
        "index11[1].dtype"
      ],
      "metadata": {
        "colab": {
          "base_uri": "https://localhost:8080/"
        },
        "id": "1C39WjipRCPp",
        "outputId": "17c60152-9b2e-495a-8e0f-ef432d585c2b"
      },
      "execution_count": null,
      "outputs": [
        {
          "output_type": "execute_result",
          "data": {
            "text/plain": [
              "dtype('int64')"
            ]
          },
          "metadata": {},
          "execution_count": 139
        }
      ]
    },
    {
      "cell_type": "markdown",
      "source": [
        "##### The exact shape and number of arrays in the tuple returned by **np.where** depends on the dimensionality and the number of conditions applied to the input array."
      ],
      "metadata": {
        "id": "6albS199QwhA"
      }
    },
    {
      "cell_type": "markdown",
      "source": [
        "---"
      ],
      "metadata": {
        "id": "QTNomfpjQ_20"
      }
    },
    {
      "cell_type": "markdown",
      "source": [
        "## Statistical operations"
      ],
      "metadata": {
        "id": "AWPgkhCeUUKm"
      }
    },
    {
      "cell_type": "markdown",
      "source": [
        " ### Calculating Mean, Median, and Standard Deviation"
      ],
      "metadata": {
        "id": "PoEh9m9kbqwV"
      }
    },
    {
      "cell_type": "markdown",
      "source": [
        "#### Mean"
      ],
      "metadata": {
        "id": "Bc3V8haVcMxy"
      }
    },
    {
      "cell_type": "code",
      "source": [
        "array1 = np.random.randint(0, 10, 5)\n",
        "array1"
      ],
      "metadata": {
        "colab": {
          "base_uri": "https://localhost:8080/"
        },
        "id": "Ml2v1yQ_cPLr",
        "outputId": "1aa818f1-e143-4a92-ec64-02946f232912"
      },
      "execution_count": null,
      "outputs": [
        {
          "output_type": "execute_result",
          "data": {
            "text/plain": [
              "array([7, 4, 1, 8, 8])"
            ]
          },
          "metadata": {},
          "execution_count": 148
        }
      ]
    },
    {
      "cell_type": "code",
      "source": [
        "meanValue1 = np.mean(array1)\n",
        "print('The mean of array is : ', meanValue1)"
      ],
      "metadata": {
        "colab": {
          "base_uri": "https://localhost:8080/"
        },
        "id": "zmCWePdJccjW",
        "outputId": "4a7af8bd-34c6-4d57-8c3f-1650be93629e"
      },
      "execution_count": null,
      "outputs": [
        {
          "output_type": "stream",
          "name": "stdout",
          "text": [
            "The mean of array is :  2.2\n"
          ]
        }
      ]
    },
    {
      "cell_type": "markdown",
      "source": [
        "---"
      ],
      "metadata": {
        "id": "YQKB9TM4dcC2"
      }
    },
    {
      "cell_type": "code",
      "source": [
        "np.random.seed(11)\n",
        "array2 = np.random.randint(0, 10, 5)\n",
        "array2"
      ],
      "metadata": {
        "colab": {
          "base_uri": "https://localhost:8080/"
        },
        "id": "s_94UsPKddPh",
        "outputId": "9df2fb45-d611-4e39-ef3f-37bc30f92846"
      },
      "execution_count": null,
      "outputs": [
        {
          "output_type": "execute_result",
          "data": {
            "text/plain": [
              "array([9, 0, 1, 7, 1])"
            ]
          },
          "metadata": {},
          "execution_count": 145
        }
      ]
    },
    {
      "cell_type": "code",
      "source": [
        "meanValue2 = np.mean(array2)\n",
        "print('The mean of array is : ', meanValue2)"
      ],
      "metadata": {
        "colab": {
          "base_uri": "https://localhost:8080/"
        },
        "id": "MyzsB2pjddHt",
        "outputId": "25a27936-97a7-45cf-8752-00ab7d65bf71"
      },
      "execution_count": null,
      "outputs": [
        {
          "output_type": "stream",
          "name": "stdout",
          "text": [
            "The mean of array is :  3.6\n"
          ]
        }
      ]
    },
    {
      "cell_type": "markdown",
      "source": [
        "##### np.random.seed() is used to set the seed for the NumPy random number generator. It initializes the random number generator, allowing you to **produce reproducible results**. **When you set the seed to a specific value, the sequence of random numbers generated will be the same every time you run your code**.\n",
        "\n"
      ],
      "metadata": {
        "id": "1pZj5FwZe2tf"
      }
    },
    {
      "cell_type": "code",
      "source": [
        "np.random.seed(11)\n",
        "array2_1 = np.random.randint(0, 10, 5)\n",
        "array2_1"
      ],
      "metadata": {
        "colab": {
          "base_uri": "https://localhost:8080/"
        },
        "id": "X-9uWsRUeqdL",
        "outputId": "3771e2dc-cc95-48cb-b74c-73e195a2346b"
      },
      "execution_count": null,
      "outputs": [
        {
          "output_type": "execute_result",
          "data": {
            "text/plain": [
              "array([9, 0, 1, 7, 1])"
            ]
          },
          "metadata": {},
          "execution_count": 150
        }
      ]
    },
    {
      "cell_type": "markdown",
      "source": [
        "---"
      ],
      "metadata": {
        "id": "oUusX85hdG3_"
      }
    },
    {
      "cell_type": "code",
      "source": [
        "array3 = np.random.randint(0, 10, (2,2))\n",
        "array3"
      ],
      "metadata": {
        "colab": {
          "base_uri": "https://localhost:8080/"
        },
        "id": "6hvQCDhyc2J1",
        "outputId": "26d7cbce-a0eb-4fb1-d42e-ca42c1f301a3"
      },
      "execution_count": null,
      "outputs": [
        {
          "output_type": "execute_result",
          "data": {
            "text/plain": [
              "array([[7, 2],\n",
              "       [8, 0]])"
            ]
          },
          "metadata": {},
          "execution_count": 151
        }
      ]
    },
    {
      "cell_type": "code",
      "source": [
        "meanValue3 = np.mean(array3)\n",
        "print('The mean of array is : ', meanValue3)"
      ],
      "metadata": {
        "colab": {
          "base_uri": "https://localhost:8080/"
        },
        "id": "RqHPd7GzdOvd",
        "outputId": "efcba78b-133b-46b8-fa9a-83e6a9802053"
      },
      "execution_count": null,
      "outputs": [
        {
          "output_type": "stream",
          "name": "stdout",
          "text": [
            "The mean of array is :  4.25\n"
          ]
        }
      ]
    },
    {
      "cell_type": "markdown",
      "source": [
        "#### Median"
      ],
      "metadata": {
        "id": "mcTKQA25ficR"
      }
    },
    {
      "cell_type": "code",
      "source": [
        "array4 = np.random.randint(0, 10,5)\n",
        "array4"
      ],
      "metadata": {
        "colab": {
          "base_uri": "https://localhost:8080/"
        },
        "id": "jqHH2ZSNgBRm",
        "outputId": "5acd9411-8be1-40e5-80a9-f3e8df31453a"
      },
      "execution_count": null,
      "outputs": [
        {
          "output_type": "execute_result",
          "data": {
            "text/plain": [
              "array([0, 4, 2, 1, 5])"
            ]
          },
          "metadata": {},
          "execution_count": 153
        }
      ]
    },
    {
      "cell_type": "code",
      "source": [
        "medianValue4 = np.median(array4)\n",
        "print('The median of array is : ', medianValue4)"
      ],
      "metadata": {
        "colab": {
          "base_uri": "https://localhost:8080/"
        },
        "id": "U6mXRuP5gBNt",
        "outputId": "be722440-9cd1-458f-f813-cee906a5f085"
      },
      "execution_count": null,
      "outputs": [
        {
          "output_type": "stream",
          "name": "stdout",
          "text": [
            "The median of array is :  2.0\n"
          ]
        }
      ]
    },
    {
      "cell_type": "markdown",
      "source": [
        "---"
      ],
      "metadata": {
        "id": "oTdOO37qgANG"
      }
    },
    {
      "cell_type": "code",
      "source": [
        "array5 = np.random.randint(0, 10, (2,2))\n",
        "array5"
      ],
      "metadata": {
        "colab": {
          "base_uri": "https://localhost:8080/"
        },
        "id": "sTHjyBrcfuDN",
        "outputId": "665e1fb8-5a87-4855-e07a-3b91f5a43a1a"
      },
      "execution_count": null,
      "outputs": [
        {
          "output_type": "execute_result",
          "data": {
            "text/plain": [
              "array([[5, 7],\n",
              "       [4, 1]])"
            ]
          },
          "metadata": {},
          "execution_count": 155
        }
      ]
    },
    {
      "cell_type": "code",
      "source": [
        "medianValue5 = np.median(array5)\n",
        "print('The median of array is : ', medianValue5)"
      ],
      "metadata": {
        "colab": {
          "base_uri": "https://localhost:8080/"
        },
        "id": "FpHM3PAmfuAF",
        "outputId": "e0f03a21-dd3e-4d11-c32e-f4e3ee052b38"
      },
      "execution_count": null,
      "outputs": [
        {
          "output_type": "stream",
          "name": "stdout",
          "text": [
            "The median of array is :  4.5\n"
          ]
        }
      ]
    },
    {
      "cell_type": "markdown",
      "source": [
        "---"
      ],
      "metadata": {
        "id": "NjYX3uqVdH__"
      }
    },
    {
      "cell_type": "markdown",
      "source": [
        "#### Standard deviation"
      ],
      "metadata": {
        "id": "tQvzTEejgOBd"
      }
    },
    {
      "cell_type": "code",
      "source": [
        "array6 = np.random.randint(0, 10,5)\n",
        "array6"
      ],
      "metadata": {
        "colab": {
          "base_uri": "https://localhost:8080/"
        },
        "id": "K7P0Y924gQwK",
        "outputId": "9d9cd2c2-d540-40ce-ac17-1f2e2fac07b8"
      },
      "execution_count": null,
      "outputs": [
        {
          "output_type": "execute_result",
          "data": {
            "text/plain": [
              "array([8, 8, 1, 3, 6])"
            ]
          },
          "metadata": {},
          "execution_count": 157
        }
      ]
    },
    {
      "cell_type": "code",
      "source": [
        "sdValue6 = np.std(array6)\n",
        "print('The standard deviation of array is : ', sdValue6)"
      ],
      "metadata": {
        "colab": {
          "base_uri": "https://localhost:8080/"
        },
        "id": "rxImeC6lgQtD",
        "outputId": "ab8ae54a-2f41-4b5d-de87-69d0ae54cc35"
      },
      "execution_count": null,
      "outputs": [
        {
          "output_type": "stream",
          "name": "stdout",
          "text": [
            "The standard deviation of array is :  2.785677655436824\n"
          ]
        }
      ]
    },
    {
      "cell_type": "markdown",
      "source": [
        "---"
      ],
      "metadata": {
        "id": "NW_87yT9gjpf"
      }
    },
    {
      "cell_type": "markdown",
      "source": [
        "### Finding Min, Max, and Sum"
      ],
      "metadata": {
        "id": "zUAfOuSfbtp-"
      }
    },
    {
      "cell_type": "code",
      "source": [
        "array7 = np.array([5, 10, 15, 20, 25, -10])\n",
        "array7"
      ],
      "metadata": {
        "colab": {
          "base_uri": "https://localhost:8080/"
        },
        "id": "ijIjgSHMgsS_",
        "outputId": "0ae56aa2-e5fd-44ba-ab86-add4b21ab9b5"
      },
      "execution_count": null,
      "outputs": [
        {
          "output_type": "execute_result",
          "data": {
            "text/plain": [
              "array([  5,  10,  15,  20,  25, -10])"
            ]
          },
          "metadata": {},
          "execution_count": 159
        }
      ]
    },
    {
      "cell_type": "code",
      "source": [
        "minValue = np.min(array7)\n",
        "maxValue = np.max(array7)\n",
        "totalSum = np.sum(array7)"
      ],
      "metadata": {
        "id": "6TjMr1QZhO9_"
      },
      "execution_count": null,
      "outputs": []
    },
    {
      "cell_type": "code",
      "source": [
        "print('The minimum value is : ', minValue)\n",
        "print('The maximum value is : ', maxValue)\n",
        "print('The total sum is : ', totalSum)"
      ],
      "metadata": {
        "colab": {
          "base_uri": "https://localhost:8080/"
        },
        "id": "49poSGvQbShI",
        "outputId": "b4e3c242-26ba-47b5-d848-fa3eed3828dd"
      },
      "execution_count": null,
      "outputs": [
        {
          "output_type": "stream",
          "name": "stdout",
          "text": [
            "The minimum value is :  -10\n",
            "The maximum value is :  25\n",
            "The total sum is :  65\n"
          ]
        }
      ]
    },
    {
      "cell_type": "markdown",
      "source": [
        "---"
      ],
      "metadata": {
        "id": "jVzcvpn6hrpT"
      }
    },
    {
      "cell_type": "markdown",
      "source": [
        "## Sorting Numpy Array"
      ],
      "metadata": {
        "id": "PZDKrEyJqu_a"
      }
    },
    {
      "cell_type": "code",
      "source": [
        "array8 = np.array([3, 1, 6, 5, 4])\n",
        "sortedArray8 = np.sort(array8)"
      ],
      "metadata": {
        "id": "C9Hq-QWZhr3t"
      },
      "execution_count": null,
      "outputs": []
    },
    {
      "cell_type": "code",
      "source": [
        "print('The unsorted array is : ')\n",
        "print(array8)\n",
        "print('The sorted array is : ')\n",
        "print(sortedArray8)"
      ],
      "metadata": {
        "colab": {
          "base_uri": "https://localhost:8080/"
        },
        "id": "gArqGix0rj6S",
        "outputId": "946d29f8-6578-44ec-8293-6758a9c98f9d"
      },
      "execution_count": null,
      "outputs": [
        {
          "output_type": "stream",
          "name": "stdout",
          "text": [
            "The unsorted array is : \n",
            "[3 1 6 5 4]\n",
            "The sorted array is : \n",
            "[1 3 4 5 6]\n"
          ]
        }
      ]
    },
    {
      "cell_type": "code",
      "source": [
        "# Sorting in descending order\n",
        "DecSortedArray8 = np.sort(array8)[::-1]"
      ],
      "metadata": {
        "id": "6LlI5CPXqG-I"
      },
      "execution_count": null,
      "outputs": []
    },
    {
      "cell_type": "markdown",
      "source": [
        "**[::-1]**: It a slice notation used to reverse the sorted array obtained from **np.sort(array8)**"
      ],
      "metadata": {
        "id": "Rjb69rb9sUW8"
      }
    },
    {
      "cell_type": "markdown",
      "source": [
        "**The step value, indicating how many elements to move forward for each step. When set to -1, it reverses the sequence.**\n"
      ],
      "metadata": {
        "id": "FqRPqBbXtbil"
      }
    },
    {
      "cell_type": "code",
      "source": [
        "print('The sorted array in descending order is : ')\n",
        "DecSortedArray8"
      ],
      "metadata": {
        "colab": {
          "base_uri": "https://localhost:8080/"
        },
        "id": "YTNCkc94r6vv",
        "outputId": "f75e3426-f93b-415d-f6e7-6a2dfc115513"
      },
      "execution_count": null,
      "outputs": [
        {
          "output_type": "stream",
          "name": "stdout",
          "text": [
            "The sorted array in descending order is : \n"
          ]
        },
        {
          "output_type": "execute_result",
          "data": {
            "text/plain": [
              "array([6, 5, 4, 3, 1])"
            ]
          },
          "metadata": {},
          "execution_count": 165
        }
      ]
    },
    {
      "cell_type": "markdown",
      "source": [
        "---"
      ],
      "metadata": {
        "id": "TcwkGQHIvNLE"
      }
    },
    {
      "cell_type": "markdown",
      "source": [
        "## Deleting elements from Numpy Array"
      ],
      "metadata": {
        "id": "NuzD9Uuaq_od"
      }
    },
    {
      "cell_type": "code",
      "source": [
        "array9 = np.array([1, 2, 3, 4, 5])\n",
        "array9"
      ],
      "metadata": {
        "colab": {
          "base_uri": "https://localhost:8080/"
        },
        "id": "iqzKaKpGuyIr",
        "outputId": "814444ec-5efe-4dba-c6c2-411b500acac4"
      },
      "execution_count": null,
      "outputs": [
        {
          "output_type": "execute_result",
          "data": {
            "text/plain": [
              "array([1, 2, 3, 4, 5])"
            ]
          },
          "metadata": {},
          "execution_count": 166
        }
      ]
    },
    {
      "cell_type": "code",
      "source": [
        "newArray9 = np.delete(array9, 2)   # 2 is an index\n",
        "newArray9"
      ],
      "metadata": {
        "colab": {
          "base_uri": "https://localhost:8080/"
        },
        "id": "vIgt-TXgux_j",
        "outputId": "107d1d18-b9b7-4407-86b4-1ae13a7bc0f6"
      },
      "execution_count": null,
      "outputs": [
        {
          "output_type": "execute_result",
          "data": {
            "text/plain": [
              "array([1, 2, 4, 5])"
            ]
          },
          "metadata": {},
          "execution_count": 167
        }
      ]
    },
    {
      "cell_type": "markdown",
      "source": [
        "---"
      ],
      "metadata": {
        "id": "5Md2DRn2vMbI"
      }
    },
    {
      "cell_type": "code",
      "source": [
        "array10 = np.array([[1, 2, 3, 4, 5],\n",
        "                  [10,20,30,40,50],\n",
        "                  [11,22,33,44,55]])\n",
        "array10"
      ],
      "metadata": {
        "colab": {
          "base_uri": "https://localhost:8080/"
        },
        "id": "c-01tQrSqG5K",
        "outputId": "7d8319a2-13e0-4e0c-f743-405919d0aa03"
      },
      "execution_count": null,
      "outputs": [
        {
          "output_type": "execute_result",
          "data": {
            "text/plain": [
              "array([[ 1,  2,  3,  4,  5],\n",
              "       [10, 20, 30, 40, 50],\n",
              "       [11, 22, 33, 44, 55]])"
            ]
          },
          "metadata": {},
          "execution_count": 168
        }
      ]
    },
    {
      "cell_type": "code",
      "source": [
        "array10.shape"
      ],
      "metadata": {
        "colab": {
          "base_uri": "https://localhost:8080/"
        },
        "id": "6adCaqFhu9yy",
        "outputId": "ed231115-f3c7-4e95-fe06-7b0b100c2122"
      },
      "execution_count": null,
      "outputs": [
        {
          "output_type": "execute_result",
          "data": {
            "text/plain": [
              "(3, 5)"
            ]
          },
          "metadata": {},
          "execution_count": 170
        }
      ]
    },
    {
      "cell_type": "code",
      "source": [
        "newArray10 = np.delete(array10, 1,axis = 1)\n",
        "newArray10"
      ],
      "metadata": {
        "colab": {
          "base_uri": "https://localhost:8080/"
        },
        "id": "KIHjLQTGt969",
        "outputId": "ea38a713-808c-4a7c-bb25-1f353f937e3a"
      },
      "execution_count": null,
      "outputs": [
        {
          "output_type": "execute_result",
          "data": {
            "text/plain": [
              "array([[ 1,  3,  4,  5],\n",
              "       [10, 30, 40, 50],\n",
              "       [11, 33, 44, 55]])"
            ]
          },
          "metadata": {},
          "execution_count": 171
        }
      ]
    },
    {
      "cell_type": "markdown",
      "source": [
        "##### **np.delete**(array10, **1**,**axis = 1**) is used for deleting elements **at index 1**  along **axis 1 (columns).**"
      ],
      "metadata": {
        "id": "cjASNwjNxpXH"
      }
    },
    {
      "cell_type": "code",
      "source": [
        "newArray11 = np.delete(array10, 1,axis = 0)\n",
        "newArray11"
      ],
      "metadata": {
        "colab": {
          "base_uri": "https://localhost:8080/"
        },
        "id": "2mOgIebELthq",
        "outputId": "b0ff183c-0d99-48e1-c8ca-947fc777d49f"
      },
      "execution_count": null,
      "outputs": [
        {
          "output_type": "execute_result",
          "data": {
            "text/plain": [
              "array([[ 1,  2,  3,  4,  5],\n",
              "       [11, 22, 33, 44, 55]])"
            ]
          },
          "metadata": {},
          "execution_count": 173
        }
      ]
    },
    {
      "cell_type": "markdown",
      "source": [
        "---"
      ],
      "metadata": {
        "id": "u-fJBn4EL0-_"
      }
    }
  ]
}